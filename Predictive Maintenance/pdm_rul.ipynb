{
 "cells": [
  {
   "cell_type": "code",
   "execution_count": 1,
   "id": "d08782fb-40fc-4b18-afbb-1d97c134ce1a",
   "metadata": {},
   "outputs": [],
   "source": [
    "import pandas as pd\n",
    "import zipfile\n",
    "from sklearn.preprocessing import MinMaxScaler\n",
    "from sklearn.metrics import confusion_matrix,accuracy_score\n",
    "import numpy as np\n",
    "from keras.models import Sequential\n",
    "from keras.layers import Dense, Dropout, LSTM, Activation\n",
    "from keras.callbacks import EarlyStopping\n",
    "import tensorflow as tf\n",
    "from tensorflow import keras\n",
    "from tensorflow.keras import layers\n",
    "\n",
    "import matplotlib.pyplot as plt\n",
    "plt.style.use('ggplot')\n",
    "%matplotlib inline  "
   ]
  },
  {
   "cell_type": "code",
   "execution_count": 5,
   "id": "4f5c6fdd-802e-4c81-a672-a5ae03337f35",
   "metadata": {},
   "outputs": [],
   "source": [
    "# extract the test, train data to sensordata folder\n",
    "with zipfile.ZipFMinMaxScaler('dataset/archive.zip') as file:\n",
    "    file.extSequentialctall('sensordata/')"
   ]
  },
  {
   "cell_type": "code",
   "execution_count": 2,
   "id": "6cbaa530-54fd-4329-b664-bac07dc7b2fb",
   "metadata": {},
   "outputs": [],
   "source": [
    "# create column names for the dataset\n",
    "meta_cols = ['engine_id', 'cycle']\n",
    "setting_cols = ['setting_{}'.format(i+1) for i in range(3)]\n",
    "sensor_cols = ['sensor_{}'.format(i+1) for i in range(21)]\n",
    "feature_cols = setting_cols + sensor_cols\n",
    "target_col = 'fail'\n",
    "cols = meta_cols + setting_cols + sensor_cols"
   ]
  },
  {
   "cell_type": "code",
   "execution_count": 3,
   "id": "4695bd91-0e7f-419e-a5d7-66fd72a249e7",
   "metadata": {},
   "outputs": [
    {
     "name": "stdout",
     "output_type": "stream",
     "text": [
      "shape of train_data: (20631, 26)\n"
     ]
    }
   ],
   "source": [
    "# Training dataset\n",
    "train_data = pd.read_csv('sensordata/PM_train.txt', sep = ' ',header=None).drop([26,27], axis=1)\n",
    "train_data.columns = cols\n",
    "print('shape of train_data:', train_data.shape)"
   ]
  },
  {
   "cell_type": "code",
   "execution_count": 4,
   "id": "9fb9ba2e-9de9-434e-8eaf-c2bb791bbd63",
   "metadata": {},
   "outputs": [
    {
     "name": "stdout",
     "output_type": "stream",
     "text": [
      "shape of test_data: (13096, 26)\n"
     ]
    }
   ],
   "source": [
    "# Test dataset\n",
    "test_data = pd.read_csv('sensordata/PM_test.txt', sep = ' ',header=None).drop([26,27], axis=1)\n",
    "test_data.columns = cols\n",
    "print('shape of test_data:', test_data.shape)"
   ]
  },
  {
   "cell_type": "code",
   "execution_count": 5,
   "id": "2e739ff6-502f-43cb-a8f9-480d1c21b530",
   "metadata": {},
   "outputs": [
    {
     "name": "stdout",
     "output_type": "stream",
     "text": [
      "shape of truth_data: (100, 2)\n"
     ]
    },
    {
     "data": {
      "text/html": [
       "<div>\n",
       "<style scoped>\n",
       "    .dataframe tbody tr th:only-of-type {\n",
       "        vertical-align: middle;\n",
       "    }\n",
       "\n",
       "    .dataframe tbody tr th {\n",
       "        vertical-align: top;\n",
       "    }\n",
       "\n",
       "    .dataframe thead th {\n",
       "        text-align: right;\n",
       "    }\n",
       "</style>\n",
       "<table border=\"1\" class=\"dataframe\">\n",
       "  <thead>\n",
       "    <tr style=\"text-align: right;\">\n",
       "      <th></th>\n",
       "      <th>cycle_RUL</th>\n",
       "      <th>engine_id</th>\n",
       "    </tr>\n",
       "  </thead>\n",
       "  <tbody>\n",
       "    <tr>\n",
       "      <th>95</th>\n",
       "      <td>137</td>\n",
       "      <td>96</td>\n",
       "    </tr>\n",
       "    <tr>\n",
       "      <th>96</th>\n",
       "      <td>82</td>\n",
       "      <td>97</td>\n",
       "    </tr>\n",
       "    <tr>\n",
       "      <th>97</th>\n",
       "      <td>59</td>\n",
       "      <td>98</td>\n",
       "    </tr>\n",
       "    <tr>\n",
       "      <th>98</th>\n",
       "      <td>117</td>\n",
       "      <td>99</td>\n",
       "    </tr>\n",
       "    <tr>\n",
       "      <th>99</th>\n",
       "      <td>20</td>\n",
       "      <td>100</td>\n",
       "    </tr>\n",
       "  </tbody>\n",
       "</table>\n",
       "</div>"
      ],
      "text/plain": [
       "    cycle_RUL  engine_id\n",
       "95        137         96\n",
       "96         82         97\n",
       "97         59         98\n",
       "98        117         99\n",
       "99         20        100"
      ]
     },
     "execution_count": 5,
     "metadata": {},
     "output_type": "execute_result"
    }
   ],
   "source": [
    "# Truth values with remaining useful life\n",
    "truth_data = pd.read_csv('sensordata/PM_truth.txt', sep=' ', header=None).drop([1], axis=1)\n",
    "truth_data.columns = ['cycle_RUL']\n",
    "truth_data['engine_id'] = truth_data.index+1\n",
    "print('shape of truth_data:',truth_data.shape)\n",
    "truth_data.tail()"
   ]
  },
  {
   "cell_type": "code",
   "execution_count": 6,
   "id": "bd4d4135-f912-4ea8-a91f-2151c1fd75ab",
   "metadata": {},
   "outputs": [
    {
     "data": {
      "text/html": [
       "<div>\n",
       "<style scoped>\n",
       "    .dataframe tbody tr th:only-of-type {\n",
       "        vertical-align: middle;\n",
       "    }\n",
       "\n",
       "    .dataframe tbody tr th {\n",
       "        vertical-align: top;\n",
       "    }\n",
       "\n",
       "    .dataframe thead th {\n",
       "        text-align: right;\n",
       "    }\n",
       "</style>\n",
       "<table border=\"1\" class=\"dataframe\">\n",
       "  <thead>\n",
       "    <tr style=\"text-align: right;\">\n",
       "      <th></th>\n",
       "      <th>engine_id</th>\n",
       "      <th>cycle_max</th>\n",
       "    </tr>\n",
       "  </thead>\n",
       "  <tbody>\n",
       "    <tr>\n",
       "      <th>95</th>\n",
       "      <td>96</td>\n",
       "      <td>97</td>\n",
       "    </tr>\n",
       "    <tr>\n",
       "      <th>96</th>\n",
       "      <td>97</td>\n",
       "      <td>134</td>\n",
       "    </tr>\n",
       "    <tr>\n",
       "      <th>97</th>\n",
       "      <td>98</td>\n",
       "      <td>121</td>\n",
       "    </tr>\n",
       "    <tr>\n",
       "      <th>98</th>\n",
       "      <td>99</td>\n",
       "      <td>97</td>\n",
       "    </tr>\n",
       "    <tr>\n",
       "      <th>99</th>\n",
       "      <td>100</td>\n",
       "      <td>198</td>\n",
       "    </tr>\n",
       "  </tbody>\n",
       "</table>\n",
       "</div>"
      ],
      "text/plain": [
       "    engine_id  cycle_max\n",
       "95         96         97\n",
       "96         97        134\n",
       "97         98        121\n",
       "98         99         97\n",
       "99        100        198"
      ]
     },
     "execution_count": 6,
     "metadata": {},
     "output_type": "execute_result"
    }
   ],
   "source": [
    "# Find the max value for the test dataset\n",
    "rul = pd.DataFrame(test_data.groupby('engine_id')['cycle'].max()).reset_index()\n",
    "rul.columns = ['engine_id', 'cycle_max']\n",
    "rul.tail()"
   ]
  },
  {
   "cell_type": "code",
   "execution_count": 7,
   "id": "ac363617-2970-4e1b-a945-dc59a68b3007",
   "metadata": {},
   "outputs": [
    {
     "data": {
      "text/html": [
       "<div>\n",
       "<style scoped>\n",
       "    .dataframe tbody tr th:only-of-type {\n",
       "        vertical-align: middle;\n",
       "    }\n",
       "\n",
       "    .dataframe tbody tr th {\n",
       "        vertical-align: top;\n",
       "    }\n",
       "\n",
       "    .dataframe thead th {\n",
       "        text-align: right;\n",
       "    }\n",
       "</style>\n",
       "<table border=\"1\" class=\"dataframe\">\n",
       "  <thead>\n",
       "    <tr style=\"text-align: right;\">\n",
       "      <th></th>\n",
       "      <th>cycle_RUL</th>\n",
       "      <th>engine_id</th>\n",
       "      <th>rtf</th>\n",
       "    </tr>\n",
       "  </thead>\n",
       "  <tbody>\n",
       "    <tr>\n",
       "      <th>95</th>\n",
       "      <td>137</td>\n",
       "      <td>96</td>\n",
       "      <td>234</td>\n",
       "    </tr>\n",
       "    <tr>\n",
       "      <th>96</th>\n",
       "      <td>82</td>\n",
       "      <td>97</td>\n",
       "      <td>216</td>\n",
       "    </tr>\n",
       "    <tr>\n",
       "      <th>97</th>\n",
       "      <td>59</td>\n",
       "      <td>98</td>\n",
       "      <td>180</td>\n",
       "    </tr>\n",
       "    <tr>\n",
       "      <th>98</th>\n",
       "      <td>117</td>\n",
       "      <td>99</td>\n",
       "      <td>214</td>\n",
       "    </tr>\n",
       "    <tr>\n",
       "      <th>99</th>\n",
       "      <td>20</td>\n",
       "      <td>100</td>\n",
       "      <td>218</td>\n",
       "    </tr>\n",
       "  </tbody>\n",
       "</table>\n",
       "</div>"
      ],
      "text/plain": [
       "    cycle_RUL  engine_id  rtf\n",
       "95        137         96  234\n",
       "96         82         97  216\n",
       "97         59         98  180\n",
       "98        117         99  214\n",
       "99         20        100  218"
      ]
     },
     "execution_count": 7,
     "metadata": {},
     "output_type": "execute_result"
    }
   ],
   "source": [
    "# calcuate the run to failure cycles\n",
    "truth_data['rtf'] = truth_data['cycle_RUL'] + rul['cycle_max']\n",
    "truth_data.tail()"
   ]
  },
  {
   "cell_type": "code",
   "execution_count": 8,
   "id": "e91ae2c7-07d6-4354-95ee-f84773ed34a8",
   "metadata": {},
   "outputs": [],
   "source": [
    "truth_data.drop('cycle_RUL', axis=1, inplace=True)"
   ]
  },
  {
   "cell_type": "code",
   "execution_count": 9,
   "id": "602d7a5e-0752-49ad-a688-bfa1141d8c12",
   "metadata": {},
   "outputs": [
    {
     "data": {
      "text/html": [
       "<div>\n",
       "<style scoped>\n",
       "    .dataframe tbody tr th:only-of-type {\n",
       "        vertical-align: middle;\n",
       "    }\n",
       "\n",
       "    .dataframe tbody tr th {\n",
       "        vertical-align: top;\n",
       "    }\n",
       "\n",
       "    .dataframe thead th {\n",
       "        text-align: right;\n",
       "    }\n",
       "</style>\n",
       "<table border=\"1\" class=\"dataframe\">\n",
       "  <thead>\n",
       "    <tr style=\"text-align: right;\">\n",
       "      <th></th>\n",
       "      <th>engine_id</th>\n",
       "      <th>cycle</th>\n",
       "      <th>setting_1</th>\n",
       "      <th>setting_2</th>\n",
       "      <th>setting_3</th>\n",
       "      <th>sensor_1</th>\n",
       "      <th>sensor_2</th>\n",
       "      <th>sensor_3</th>\n",
       "      <th>sensor_4</th>\n",
       "      <th>sensor_5</th>\n",
       "      <th>...</th>\n",
       "      <th>sensor_13</th>\n",
       "      <th>sensor_14</th>\n",
       "      <th>sensor_15</th>\n",
       "      <th>sensor_16</th>\n",
       "      <th>sensor_17</th>\n",
       "      <th>sensor_18</th>\n",
       "      <th>sensor_19</th>\n",
       "      <th>sensor_20</th>\n",
       "      <th>sensor_21</th>\n",
       "      <th>ttf</th>\n",
       "    </tr>\n",
       "  </thead>\n",
       "  <tbody>\n",
       "    <tr>\n",
       "      <th>13091</th>\n",
       "      <td>100</td>\n",
       "      <td>194</td>\n",
       "      <td>0.0049</td>\n",
       "      <td>0.0000</td>\n",
       "      <td>100.0</td>\n",
       "      <td>518.67</td>\n",
       "      <td>643.24</td>\n",
       "      <td>1599.45</td>\n",
       "      <td>1415.79</td>\n",
       "      <td>14.62</td>\n",
       "      <td>...</td>\n",
       "      <td>2388.00</td>\n",
       "      <td>8213.28</td>\n",
       "      <td>8.4715</td>\n",
       "      <td>0.03</td>\n",
       "      <td>394</td>\n",
       "      <td>2388</td>\n",
       "      <td>100.0</td>\n",
       "      <td>38.65</td>\n",
       "      <td>23.1974</td>\n",
       "      <td>24</td>\n",
       "    </tr>\n",
       "    <tr>\n",
       "      <th>13092</th>\n",
       "      <td>100</td>\n",
       "      <td>195</td>\n",
       "      <td>-0.0011</td>\n",
       "      <td>-0.0001</td>\n",
       "      <td>100.0</td>\n",
       "      <td>518.67</td>\n",
       "      <td>643.22</td>\n",
       "      <td>1595.69</td>\n",
       "      <td>1422.05</td>\n",
       "      <td>14.62</td>\n",
       "      <td>...</td>\n",
       "      <td>2388.09</td>\n",
       "      <td>8210.85</td>\n",
       "      <td>8.4512</td>\n",
       "      <td>0.03</td>\n",
       "      <td>395</td>\n",
       "      <td>2388</td>\n",
       "      <td>100.0</td>\n",
       "      <td>38.57</td>\n",
       "      <td>23.2771</td>\n",
       "      <td>23</td>\n",
       "    </tr>\n",
       "    <tr>\n",
       "      <th>13093</th>\n",
       "      <td>100</td>\n",
       "      <td>196</td>\n",
       "      <td>-0.0006</td>\n",
       "      <td>-0.0003</td>\n",
       "      <td>100.0</td>\n",
       "      <td>518.67</td>\n",
       "      <td>643.44</td>\n",
       "      <td>1593.15</td>\n",
       "      <td>1406.82</td>\n",
       "      <td>14.62</td>\n",
       "      <td>...</td>\n",
       "      <td>2388.04</td>\n",
       "      <td>8217.24</td>\n",
       "      <td>8.4569</td>\n",
       "      <td>0.03</td>\n",
       "      <td>395</td>\n",
       "      <td>2388</td>\n",
       "      <td>100.0</td>\n",
       "      <td>38.62</td>\n",
       "      <td>23.2051</td>\n",
       "      <td>22</td>\n",
       "    </tr>\n",
       "    <tr>\n",
       "      <th>13094</th>\n",
       "      <td>100</td>\n",
       "      <td>197</td>\n",
       "      <td>-0.0038</td>\n",
       "      <td>0.0001</td>\n",
       "      <td>100.0</td>\n",
       "      <td>518.67</td>\n",
       "      <td>643.26</td>\n",
       "      <td>1594.99</td>\n",
       "      <td>1419.36</td>\n",
       "      <td>14.62</td>\n",
       "      <td>...</td>\n",
       "      <td>2388.08</td>\n",
       "      <td>8220.48</td>\n",
       "      <td>8.4711</td>\n",
       "      <td>0.03</td>\n",
       "      <td>395</td>\n",
       "      <td>2388</td>\n",
       "      <td>100.0</td>\n",
       "      <td>38.66</td>\n",
       "      <td>23.2699</td>\n",
       "      <td>21</td>\n",
       "    </tr>\n",
       "    <tr>\n",
       "      <th>13095</th>\n",
       "      <td>100</td>\n",
       "      <td>198</td>\n",
       "      <td>0.0013</td>\n",
       "      <td>0.0003</td>\n",
       "      <td>100.0</td>\n",
       "      <td>518.67</td>\n",
       "      <td>642.95</td>\n",
       "      <td>1601.62</td>\n",
       "      <td>1424.99</td>\n",
       "      <td>14.62</td>\n",
       "      <td>...</td>\n",
       "      <td>2388.05</td>\n",
       "      <td>8214.64</td>\n",
       "      <td>8.4903</td>\n",
       "      <td>0.03</td>\n",
       "      <td>396</td>\n",
       "      <td>2388</td>\n",
       "      <td>100.0</td>\n",
       "      <td>38.70</td>\n",
       "      <td>23.1855</td>\n",
       "      <td>20</td>\n",
       "    </tr>\n",
       "  </tbody>\n",
       "</table>\n",
       "<p>5 rows × 27 columns</p>\n",
       "</div>"
      ],
      "text/plain": [
       "       engine_id  cycle  setting_1  setting_2  setting_3  sensor_1  sensor_2  \\\n",
       "13091        100    194     0.0049     0.0000      100.0    518.67    643.24   \n",
       "13092        100    195    -0.0011    -0.0001      100.0    518.67    643.22   \n",
       "13093        100    196    -0.0006    -0.0003      100.0    518.67    643.44   \n",
       "13094        100    197    -0.0038     0.0001      100.0    518.67    643.26   \n",
       "13095        100    198     0.0013     0.0003      100.0    518.67    642.95   \n",
       "\n",
       "       sensor_3  sensor_4  sensor_5  ...  sensor_13  sensor_14  sensor_15  \\\n",
       "13091   1599.45   1415.79     14.62  ...    2388.00    8213.28     8.4715   \n",
       "13092   1595.69   1422.05     14.62  ...    2388.09    8210.85     8.4512   \n",
       "13093   1593.15   1406.82     14.62  ...    2388.04    8217.24     8.4569   \n",
       "13094   1594.99   1419.36     14.62  ...    2388.08    8220.48     8.4711   \n",
       "13095   1601.62   1424.99     14.62  ...    2388.05    8214.64     8.4903   \n",
       "\n",
       "       sensor_16  sensor_17  sensor_18  sensor_19  sensor_20  sensor_21  ttf  \n",
       "13091       0.03        394       2388      100.0      38.65    23.1974   24  \n",
       "13092       0.03        395       2388      100.0      38.57    23.2771   23  \n",
       "13093       0.03        395       2388      100.0      38.62    23.2051   22  \n",
       "13094       0.03        395       2388      100.0      38.66    23.2699   21  \n",
       "13095       0.03        396       2388      100.0      38.70    23.1855   20  \n",
       "\n",
       "[5 rows x 27 columns]"
      ]
     },
     "execution_count": 9,
     "metadata": {},
     "output_type": "execute_result"
    }
   ],
   "source": [
    "# calculate the total time to failure(ttf) in test data for each row\n",
    "test_data = test_data.merge(truth_data, on=['engine_id'], how='left')\n",
    "test_data['ttf'] = test_data['rtf'] - test_data['cycle']\n",
    "test_data.drop(['rtf'], axis=1, inplace=True)\n",
    "test_data.tail()\n"
   ]
  },
  {
   "cell_type": "code",
   "execution_count": 10,
   "id": "085785fa-82dd-44e4-a028-ddd02b5e5fe7",
   "metadata": {},
   "outputs": [
    {
     "data": {
      "text/html": [
       "<div>\n",
       "<style scoped>\n",
       "    .dataframe tbody tr th:only-of-type {\n",
       "        vertical-align: middle;\n",
       "    }\n",
       "\n",
       "    .dataframe tbody tr th {\n",
       "        vertical-align: top;\n",
       "    }\n",
       "\n",
       "    .dataframe thead th {\n",
       "        text-align: right;\n",
       "    }\n",
       "</style>\n",
       "<table border=\"1\" class=\"dataframe\">\n",
       "  <thead>\n",
       "    <tr style=\"text-align: right;\">\n",
       "      <th></th>\n",
       "      <th>engine_id</th>\n",
       "      <th>cycle</th>\n",
       "      <th>setting_1</th>\n",
       "      <th>setting_2</th>\n",
       "      <th>setting_3</th>\n",
       "      <th>sensor_1</th>\n",
       "      <th>sensor_2</th>\n",
       "      <th>sensor_3</th>\n",
       "      <th>sensor_4</th>\n",
       "      <th>sensor_5</th>\n",
       "      <th>...</th>\n",
       "      <th>sensor_13</th>\n",
       "      <th>sensor_14</th>\n",
       "      <th>sensor_15</th>\n",
       "      <th>sensor_16</th>\n",
       "      <th>sensor_17</th>\n",
       "      <th>sensor_18</th>\n",
       "      <th>sensor_19</th>\n",
       "      <th>sensor_20</th>\n",
       "      <th>sensor_21</th>\n",
       "      <th>ttf</th>\n",
       "    </tr>\n",
       "  </thead>\n",
       "  <tbody>\n",
       "    <tr>\n",
       "      <th>20626</th>\n",
       "      <td>100</td>\n",
       "      <td>196</td>\n",
       "      <td>-0.0004</td>\n",
       "      <td>-0.0003</td>\n",
       "      <td>100.0</td>\n",
       "      <td>518.67</td>\n",
       "      <td>643.49</td>\n",
       "      <td>1597.98</td>\n",
       "      <td>1428.63</td>\n",
       "      <td>14.62</td>\n",
       "      <td>...</td>\n",
       "      <td>2388.26</td>\n",
       "      <td>8137.60</td>\n",
       "      <td>8.4956</td>\n",
       "      <td>0.03</td>\n",
       "      <td>397</td>\n",
       "      <td>2388</td>\n",
       "      <td>100.0</td>\n",
       "      <td>38.49</td>\n",
       "      <td>22.9735</td>\n",
       "      <td>4</td>\n",
       "    </tr>\n",
       "    <tr>\n",
       "      <th>20627</th>\n",
       "      <td>100</td>\n",
       "      <td>197</td>\n",
       "      <td>-0.0016</td>\n",
       "      <td>-0.0005</td>\n",
       "      <td>100.0</td>\n",
       "      <td>518.67</td>\n",
       "      <td>643.54</td>\n",
       "      <td>1604.50</td>\n",
       "      <td>1433.58</td>\n",
       "      <td>14.62</td>\n",
       "      <td>...</td>\n",
       "      <td>2388.22</td>\n",
       "      <td>8136.50</td>\n",
       "      <td>8.5139</td>\n",
       "      <td>0.03</td>\n",
       "      <td>395</td>\n",
       "      <td>2388</td>\n",
       "      <td>100.0</td>\n",
       "      <td>38.30</td>\n",
       "      <td>23.1594</td>\n",
       "      <td>3</td>\n",
       "    </tr>\n",
       "    <tr>\n",
       "      <th>20628</th>\n",
       "      <td>100</td>\n",
       "      <td>198</td>\n",
       "      <td>0.0004</td>\n",
       "      <td>0.0000</td>\n",
       "      <td>100.0</td>\n",
       "      <td>518.67</td>\n",
       "      <td>643.42</td>\n",
       "      <td>1602.46</td>\n",
       "      <td>1428.18</td>\n",
       "      <td>14.62</td>\n",
       "      <td>...</td>\n",
       "      <td>2388.24</td>\n",
       "      <td>8141.05</td>\n",
       "      <td>8.5646</td>\n",
       "      <td>0.03</td>\n",
       "      <td>398</td>\n",
       "      <td>2388</td>\n",
       "      <td>100.0</td>\n",
       "      <td>38.44</td>\n",
       "      <td>22.9333</td>\n",
       "      <td>2</td>\n",
       "    </tr>\n",
       "    <tr>\n",
       "      <th>20629</th>\n",
       "      <td>100</td>\n",
       "      <td>199</td>\n",
       "      <td>-0.0011</td>\n",
       "      <td>0.0003</td>\n",
       "      <td>100.0</td>\n",
       "      <td>518.67</td>\n",
       "      <td>643.23</td>\n",
       "      <td>1605.26</td>\n",
       "      <td>1426.53</td>\n",
       "      <td>14.62</td>\n",
       "      <td>...</td>\n",
       "      <td>2388.23</td>\n",
       "      <td>8139.29</td>\n",
       "      <td>8.5389</td>\n",
       "      <td>0.03</td>\n",
       "      <td>395</td>\n",
       "      <td>2388</td>\n",
       "      <td>100.0</td>\n",
       "      <td>38.29</td>\n",
       "      <td>23.0640</td>\n",
       "      <td>1</td>\n",
       "    </tr>\n",
       "    <tr>\n",
       "      <th>20630</th>\n",
       "      <td>100</td>\n",
       "      <td>200</td>\n",
       "      <td>-0.0032</td>\n",
       "      <td>-0.0005</td>\n",
       "      <td>100.0</td>\n",
       "      <td>518.67</td>\n",
       "      <td>643.85</td>\n",
       "      <td>1600.38</td>\n",
       "      <td>1432.14</td>\n",
       "      <td>14.62</td>\n",
       "      <td>...</td>\n",
       "      <td>2388.26</td>\n",
       "      <td>8137.33</td>\n",
       "      <td>8.5036</td>\n",
       "      <td>0.03</td>\n",
       "      <td>396</td>\n",
       "      <td>2388</td>\n",
       "      <td>100.0</td>\n",
       "      <td>38.37</td>\n",
       "      <td>23.0522</td>\n",
       "      <td>0</td>\n",
       "    </tr>\n",
       "  </tbody>\n",
       "</table>\n",
       "<p>5 rows × 27 columns</p>\n",
       "</div>"
      ],
      "text/plain": [
       "       engine_id  cycle  setting_1  setting_2  setting_3  sensor_1  sensor_2  \\\n",
       "20626        100    196    -0.0004    -0.0003      100.0    518.67    643.49   \n",
       "20627        100    197    -0.0016    -0.0005      100.0    518.67    643.54   \n",
       "20628        100    198     0.0004     0.0000      100.0    518.67    643.42   \n",
       "20629        100    199    -0.0011     0.0003      100.0    518.67    643.23   \n",
       "20630        100    200    -0.0032    -0.0005      100.0    518.67    643.85   \n",
       "\n",
       "       sensor_3  sensor_4  sensor_5  ...  sensor_13  sensor_14  sensor_15  \\\n",
       "20626   1597.98   1428.63     14.62  ...    2388.26    8137.60     8.4956   \n",
       "20627   1604.50   1433.58     14.62  ...    2388.22    8136.50     8.5139   \n",
       "20628   1602.46   1428.18     14.62  ...    2388.24    8141.05     8.5646   \n",
       "20629   1605.26   1426.53     14.62  ...    2388.23    8139.29     8.5389   \n",
       "20630   1600.38   1432.14     14.62  ...    2388.26    8137.33     8.5036   \n",
       "\n",
       "       sensor_16  sensor_17  sensor_18  sensor_19  sensor_20  sensor_21  ttf  \n",
       "20626       0.03        397       2388      100.0      38.49    22.9735    4  \n",
       "20627       0.03        395       2388      100.0      38.30    23.1594    3  \n",
       "20628       0.03        398       2388      100.0      38.44    22.9333    2  \n",
       "20629       0.03        395       2388      100.0      38.29    23.0640    1  \n",
       "20630       0.03        396       2388      100.0      38.37    23.0522    0  \n",
       "\n",
       "[5 rows x 27 columns]"
      ]
     },
     "execution_count": 10,
     "metadata": {},
     "output_type": "execute_result"
    }
   ],
   "source": [
    "# Calculate the time to failure for training dataset\n",
    "train_data['ttf'] = train_data.groupby(['engine_id'])['cycle'].transform(max)-train_data['cycle']\n",
    "train_data.tail()"
   ]
  },
  {
   "cell_type": "code",
   "execution_count": 16,
   "id": "c457f875-d274-440e-94db-3de7d49be803",
   "metadata": {},
   "outputs": [
    {
     "data": {
      "text/html": [
       "<div>\n",
       "<style scoped>\n",
       "    .dataframe tbody tr th:only-of-type {\n",
       "        vertical-align: middle;\n",
       "    }\n",
       "\n",
       "    .dataframe tbody tr th {\n",
       "        vertical-align: top;\n",
       "    }\n",
       "\n",
       "    .dataframe thead th {\n",
       "        text-align: right;\n",
       "    }\n",
       "</style>\n",
       "<table border=\"1\" class=\"dataframe\">\n",
       "  <thead>\n",
       "    <tr style=\"text-align: right;\">\n",
       "      <th></th>\n",
       "      <th>engine_id</th>\n",
       "      <th>cycle</th>\n",
       "      <th>setting_1</th>\n",
       "      <th>setting_2</th>\n",
       "      <th>setting_3</th>\n",
       "      <th>sensor_1</th>\n",
       "      <th>sensor_2</th>\n",
       "      <th>sensor_3</th>\n",
       "      <th>sensor_4</th>\n",
       "      <th>sensor_5</th>\n",
       "      <th>...</th>\n",
       "      <th>sensor_14</th>\n",
       "      <th>sensor_15</th>\n",
       "      <th>sensor_16</th>\n",
       "      <th>sensor_17</th>\n",
       "      <th>sensor_18</th>\n",
       "      <th>sensor_19</th>\n",
       "      <th>sensor_20</th>\n",
       "      <th>sensor_21</th>\n",
       "      <th>ttf</th>\n",
       "      <th>fail</th>\n",
       "    </tr>\n",
       "  </thead>\n",
       "  <tbody>\n",
       "    <tr>\n",
       "      <th>20626</th>\n",
       "      <td>100</td>\n",
       "      <td>196</td>\n",
       "      <td>-0.0004</td>\n",
       "      <td>-0.0003</td>\n",
       "      <td>100.0</td>\n",
       "      <td>518.67</td>\n",
       "      <td>643.49</td>\n",
       "      <td>1597.98</td>\n",
       "      <td>1428.63</td>\n",
       "      <td>14.62</td>\n",
       "      <td>...</td>\n",
       "      <td>8137.60</td>\n",
       "      <td>8.4956</td>\n",
       "      <td>0.03</td>\n",
       "      <td>397</td>\n",
       "      <td>2388</td>\n",
       "      <td>100.0</td>\n",
       "      <td>38.49</td>\n",
       "      <td>22.9735</td>\n",
       "      <td>4</td>\n",
       "      <td>1</td>\n",
       "    </tr>\n",
       "    <tr>\n",
       "      <th>20627</th>\n",
       "      <td>100</td>\n",
       "      <td>197</td>\n",
       "      <td>-0.0016</td>\n",
       "      <td>-0.0005</td>\n",
       "      <td>100.0</td>\n",
       "      <td>518.67</td>\n",
       "      <td>643.54</td>\n",
       "      <td>1604.50</td>\n",
       "      <td>1433.58</td>\n",
       "      <td>14.62</td>\n",
       "      <td>...</td>\n",
       "      <td>8136.50</td>\n",
       "      <td>8.5139</td>\n",
       "      <td>0.03</td>\n",
       "      <td>395</td>\n",
       "      <td>2388</td>\n",
       "      <td>100.0</td>\n",
       "      <td>38.30</td>\n",
       "      <td>23.1594</td>\n",
       "      <td>3</td>\n",
       "      <td>1</td>\n",
       "    </tr>\n",
       "    <tr>\n",
       "      <th>20628</th>\n",
       "      <td>100</td>\n",
       "      <td>198</td>\n",
       "      <td>0.0004</td>\n",
       "      <td>0.0000</td>\n",
       "      <td>100.0</td>\n",
       "      <td>518.67</td>\n",
       "      <td>643.42</td>\n",
       "      <td>1602.46</td>\n",
       "      <td>1428.18</td>\n",
       "      <td>14.62</td>\n",
       "      <td>...</td>\n",
       "      <td>8141.05</td>\n",
       "      <td>8.5646</td>\n",
       "      <td>0.03</td>\n",
       "      <td>398</td>\n",
       "      <td>2388</td>\n",
       "      <td>100.0</td>\n",
       "      <td>38.44</td>\n",
       "      <td>22.9333</td>\n",
       "      <td>2</td>\n",
       "      <td>1</td>\n",
       "    </tr>\n",
       "    <tr>\n",
       "      <th>20629</th>\n",
       "      <td>100</td>\n",
       "      <td>199</td>\n",
       "      <td>-0.0011</td>\n",
       "      <td>0.0003</td>\n",
       "      <td>100.0</td>\n",
       "      <td>518.67</td>\n",
       "      <td>643.23</td>\n",
       "      <td>1605.26</td>\n",
       "      <td>1426.53</td>\n",
       "      <td>14.62</td>\n",
       "      <td>...</td>\n",
       "      <td>8139.29</td>\n",
       "      <td>8.5389</td>\n",
       "      <td>0.03</td>\n",
       "      <td>395</td>\n",
       "      <td>2388</td>\n",
       "      <td>100.0</td>\n",
       "      <td>38.29</td>\n",
       "      <td>23.0640</td>\n",
       "      <td>1</td>\n",
       "      <td>1</td>\n",
       "    </tr>\n",
       "    <tr>\n",
       "      <th>20630</th>\n",
       "      <td>100</td>\n",
       "      <td>200</td>\n",
       "      <td>-0.0032</td>\n",
       "      <td>-0.0005</td>\n",
       "      <td>100.0</td>\n",
       "      <td>518.67</td>\n",
       "      <td>643.85</td>\n",
       "      <td>1600.38</td>\n",
       "      <td>1432.14</td>\n",
       "      <td>14.62</td>\n",
       "      <td>...</td>\n",
       "      <td>8137.33</td>\n",
       "      <td>8.5036</td>\n",
       "      <td>0.03</td>\n",
       "      <td>396</td>\n",
       "      <td>2388</td>\n",
       "      <td>100.0</td>\n",
       "      <td>38.37</td>\n",
       "      <td>23.0522</td>\n",
       "      <td>0</td>\n",
       "      <td>1</td>\n",
       "    </tr>\n",
       "  </tbody>\n",
       "</table>\n",
       "<p>5 rows × 28 columns</p>\n",
       "</div>"
      ],
      "text/plain": [
       "       engine_id  cycle  setting_1  setting_2  setting_3  sensor_1  sensor_2  \\\n",
       "20626        100    196    -0.0004    -0.0003      100.0    518.67    643.49   \n",
       "20627        100    197    -0.0016    -0.0005      100.0    518.67    643.54   \n",
       "20628        100    198     0.0004     0.0000      100.0    518.67    643.42   \n",
       "20629        100    199    -0.0011     0.0003      100.0    518.67    643.23   \n",
       "20630        100    200    -0.0032    -0.0005      100.0    518.67    643.85   \n",
       "\n",
       "       sensor_3  sensor_4  sensor_5  ...  sensor_14  sensor_15  sensor_16  \\\n",
       "20626   1597.98   1428.63     14.62  ...    8137.60     8.4956       0.03   \n",
       "20627   1604.50   1433.58     14.62  ...    8136.50     8.5139       0.03   \n",
       "20628   1602.46   1428.18     14.62  ...    8141.05     8.5646       0.03   \n",
       "20629   1605.26   1426.53     14.62  ...    8139.29     8.5389       0.03   \n",
       "20630   1600.38   1432.14     14.62  ...    8137.33     8.5036       0.03   \n",
       "\n",
       "       sensor_17  sensor_18  sensor_19  sensor_20  sensor_21  ttf  fail  \n",
       "20626        397       2388      100.0      38.49    22.9735    4     1  \n",
       "20627        395       2388      100.0      38.30    23.1594    3     1  \n",
       "20628        398       2388      100.0      38.44    22.9333    2     1  \n",
       "20629        395       2388      100.0      38.29    23.0640    1     1  \n",
       "20630        396       2388      100.0      38.37    23.0522    0     1  \n",
       "\n",
       "[5 rows x 28 columns]"
      ]
     },
     "execution_count": 16,
     "metadata": {},
     "output_type": "execute_result"
    }
   ],
   "source": [
    "df_train = train_data.copy()\n",
    "df_test = test_data.copy()\n",
    "period = 30\n",
    "df_train['fail'] = df_train['ttf'].apply(lambda x: 1 if x <= period else 0)\n",
    "df_test['fail'] = df_test['ttf'].apply(lambda x: 1 if x <= period else 0)\n",
    "df_train.tail()"
   ]
  },
  {
   "cell_type": "code",
   "execution_count": 45,
   "id": "38e47b67-64bf-46b1-b075-5ece56859021",
   "metadata": {},
   "outputs": [],
   "source": [
    "df_train_20 = train_data.copy()\n",
    "df_test_20 = test_data.copy()\n",
    "period = 20\n",
    "df_train_20['fail'] = df_train['ttf'].apply(lambda x: 1 if x <= period else 0)\n",
    "df_test_20['fail'] = df_test['ttf'].apply(lambda x: 1 if x <= period else 0)"
   ]
  },
  {
   "cell_type": "code",
   "execution_count": 46,
   "id": "08ba5770-a663-4bed-b870-b9a0ac4840c5",
   "metadata": {},
   "outputs": [],
   "source": [
    "df_train_10 = train_data.copy()\n",
    "df_test_10 = test_data.copy()\n",
    "period = 10\n",
    "df_train_10['fail'] = df_train['ttf'].apply(lambda x: 1 if x <= period else 0)\n",
    "df_test_10['fail'] = df_test['ttf'].apply(lambda x: 1 if x <= period else 0)"
   ]
  },
  {
   "cell_type": "code",
   "execution_count": 48,
   "id": "8ff360f8-e2b7-4409-8148-978d183f2efd",
   "metadata": {},
   "outputs": [],
   "source": [
    "# Perform feature scaling on the feature columns\n",
    "sc = MinMaxScaler()\n",
    "df_train[feature_cols] = sc.fit_transform(df_train[feature_cols])\n",
    "df_test[feature_cols] = sc.transform(df_test[feature_cols])\n",
    "df_train_10[feature_cols] = sc.fit_transform(df_train[feature_cols])\n",
    "df_test_10[feature_cols] = sc.transform(df_test[feature_cols])\n",
    "df_train_20[feature_cols] = sc.fit_transform(df_train[feature_cols])\n",
    "df_test_20[feature_cols] = sc.transform(df_test[feature_cols])"
   ]
  },
  {
   "cell_type": "code",
   "execution_count": 49,
   "id": "d477cfc6-345f-4caf-990e-4fc240f5e508",
   "metadata": {},
   "outputs": [],
   "source": [
    "df_test.to_csv('C://Users/rajas/PycharmProjects/Flask_PM/data/df_test.csv')\n",
    "df_test_10.to_csv('C://Users/rajas/PycharmProjects/Flask_PM/data/df_test_10.csv')\n",
    "df_test_20.to_csv('C://Users/rajas/PycharmProjects/Flask_PM/data/df_test_20.csv')"
   ]
  },
  {
   "cell_type": "code",
   "execution_count": 18,
   "id": "6c6b2f3a-d032-4e93-a67c-2c4c22ac7570",
   "metadata": {},
   "outputs": [],
   "source": [
    "def gen_sequence(id_df, seq_length, seq_cols):\n",
    "    df_zeros=pd.DataFrame(np.zeros((seq_length-1,id_df.shape[1])),columns=id_df.columns)\n",
    "    # id_df=df_zeros.append(id_df,ignore_index=True)\n",
    "    id_df = pd.concat([df_zeros,id_df], ignore_index=True)\n",
    "    data_array = id_df[seq_cols].values\n",
    "    num_elements = data_array.shape[0]\n",
    "    lstm_array=[]\n",
    "    for start, stop in zip(range(0, num_elements-seq_length), range(seq_length, num_elements)):\n",
    "        lstm_array.append(data_array[start:stop, :])\n",
    "    return np.array(lstm_array)\n",
    "\n",
    "# function to generate labels\n",
    "def gen_label(id_df, seq_length, seq_cols,label):\n",
    "    df_zeros=pd.DataFrame(np.zeros((seq_length-1,id_df.shape[1])),columns=id_df.columns)\n",
    "    # id_df=df_zeros.append(id_df,ignore_index=True)\n",
    "    id_df = pd.concat([df_zeros,id_df], ignore_index=True)\n",
    "    data_array = id_df[seq_cols].values\n",
    "    num_elements = data_array.shape[0]\n",
    "    y_label=[]\n",
    "    for start, stop in zip(range(0, num_elements-seq_length), range(seq_length, num_elements)):\n",
    "        y_label.append(id_df[label][stop])\n",
    "    return np.array(y_label)"
   ]
  },
  {
   "cell_type": "code",
   "execution_count": 19,
   "id": "1aea7650-9042-44c7-b849-a1a1d5dce6bc",
   "metadata": {},
   "outputs": [],
   "source": [
    "# timestamp or window size\n",
    "seq_length=50\n",
    "seq_cols=feature_cols"
   ]
  },
  {
   "cell_type": "code",
   "execution_count": 50,
   "id": "72d48749-6de0-46c4-a9e6-7f03f9cb6cb9",
   "metadata": {},
   "outputs": [
    {
     "name": "stdout",
     "output_type": "stream",
     "text": [
      "(20531, 50, 24)\n",
      "(20531,)\n",
      "(20531, 50, 24)\n",
      "(20531,)\n",
      "(20531, 50, 24)\n",
      "(20531,)\n"
     ]
    }
   ],
   "source": [
    "# generate X_train\n",
    "X_train=np.concatenate(list(list(gen_sequence(df_train[df_train['engine_id']==id], seq_length, seq_cols)) for id in df_train['engine_id'].unique()))\n",
    "print(X_train.shape)\n",
    "# generate y_train\n",
    "y_train=np.concatenate(list(list(gen_label(df_train[df_train['engine_id']==id], 50, seq_cols,'fail')) for id in df_train['engine_id'].unique()))\n",
    "print(y_train.shape)\n",
    "# For 10 day prediction\n",
    "X_train_10=np.concatenate(list(list(gen_sequence(df_train_10[df_train_10['engine_id']==id], seq_length, seq_cols)) for id in df_train_10['engine_id'].unique()))\n",
    "print(X_train_10.shape)\n",
    "# generate y_train\n",
    "y_train_10=np.concatenate(list(list(gen_label(df_train_10[df_train_10['engine_id']==id], 50, seq_cols,'fail')) for id in df_train_10['engine_id'].unique()))\n",
    "print(y_train_10.shape)\n",
    "# For 20 day prediction\n",
    "X_train_20=np.concatenate(list(list(gen_sequence(df_train_20[df_train_20['engine_id']==id], seq_length, seq_cols)) for id in df_train_20['engine_id'].unique()))\n",
    "print(X_train_20.shape)\n",
    "# generate y_train\n",
    "y_train_20=np.concatenate(list(list(gen_label(df_train_20[df_train_20['engine_id']==id], 50, seq_cols,'fail')) for id in df_train_20['engine_id'].unique()))\n",
    "print(y_train_20.shape)"
   ]
  },
  {
   "cell_type": "code",
   "execution_count": 51,
   "id": "1d58d82d-fede-43da-8abc-2ca33be69949",
   "metadata": {},
   "outputs": [
    {
     "name": "stdout",
     "output_type": "stream",
     "text": [
      "(12996, 50, 24)\n",
      "(12996,)\n",
      "(12996, 50, 24)\n",
      "(12996,)\n",
      "(12996, 50, 24)\n",
      "(12996,)\n"
     ]
    }
   ],
   "source": [
    "# generate X_test\n",
    "X_test=np.concatenate(list(list(gen_sequence(df_test[df_test['engine_id']==id], seq_length, seq_cols)) for id in df_test['engine_id'].unique()))\n",
    "print(X_test.shape)\n",
    "# generate y_test\n",
    "y_test=np.concatenate(list(list(gen_label(df_test[df_test['engine_id']==id], 50, seq_cols,'fail')) for id in df_test['engine_id'].unique()))\n",
    "print(y_test.shape)\n",
    "# For 10 day prediction\n",
    "X_test_10=np.concatenate(list(list(gen_sequence(df_test_10[df_test_10['engine_id']==id], seq_length, seq_cols)) for id in df_test_10['engine_id'].unique()))\n",
    "print(X_test_10.shape)\n",
    "# generate y_test\n",
    "y_test_10=np.concatenate(list(list(gen_label(df_test[df_test_10['engine_id']==id], 50, seq_cols,'fail')) for id in df_test_10['engine_id'].unique()))\n",
    "print(y_test_10.shape)\n",
    "# For 20 day prediction\n",
    "X_test_20=np.concatenate(list(list(gen_sequence(df_test_20[df_test_20['engine_id']==id], seq_length, seq_cols)) for id in df_test_20['engine_id'].unique()))\n",
    "print(X_test_20.shape)\n",
    "# generate y_test\n",
    "y_test_20=np.concatenate(list(list(gen_label(df_test_20[df_test_20['engine_id']==id], 50, seq_cols,'fail')) for id in df_test_20['engine_id'].unique()))\n",
    "print(y_test_20.shape)"
   ]
  },
  {
   "cell_type": "code",
   "execution_count": 64,
   "id": "5c1eb75d-2a6d-4622-8c9b-0661124aa4c0",
   "metadata": {},
   "outputs": [
    {
     "name": "stdout",
     "output_type": "stream",
     "text": [
      "Model: \"sequential_7\"\n",
      "_________________________________________________________________\n",
      " Layer (type)                Output Shape              Param #   \n",
      "=================================================================\n",
      " lstm_12 (LSTM)              (None, 50, 50)            15000     \n",
      "                                                                 \n",
      " dropout_15 (Dropout)        (None, 50, 50)            0         \n",
      "                                                                 \n",
      " lstm_13 (LSTM)              (None, 100)               60400     \n",
      "                                                                 \n",
      " dropout_16 (Dropout)        (None, 100)               0         \n",
      "                                                                 \n",
      " dense_10 (Dense)            (None, 1)                 101       \n",
      "                                                                 \n",
      "=================================================================\n",
      "Total params: 75,501\n",
      "Trainable params: 75,501\n",
      "Non-trainable params: 0\n",
      "_________________________________________________________________\n"
     ]
    }
   ],
   "source": [
    "# Build LSTM Network - 10 day pediction\n",
    "nb_features =X_train_10.shape[2]\n",
    "timestamp=seq_length\n",
    "model = Sequential()\n",
    "model.add(LSTM(units=50,activation = 'relu',input_shape=(X_train_10.shape[1], X_train_10.shape[2]),return_sequences=True))\n",
    "model.add(Dropout(0.2))\n",
    "model.add(LSTM(units=100,activation = 'relu',return_sequences=False))\n",
    "model.add(Dropout(0.2))\n",
    "model.add(Dense(units=1, activation='sigmoid'))\n",
    "model.compile(loss='binary_crossentropy', optimizer='adam', metrics=['accuracy'])\n",
    "model.summary()"
   ]
  },
  {
   "cell_type": "markdown",
   "id": "0eb0de7b-83de-45f5-a089-7a8fe2bb6052",
   "metadata": {},
   "source": []
  },
  {
   "cell_type": "code",
   "execution_count": null,
   "id": "fef87493-186e-44da-8995-da244ca45014",
   "metadata": {},
   "outputs": [],
   "source": []
  },
  {
   "cell_type": "code",
   "execution_count": 63,
   "id": "f5cb9a07-16c9-4602-9534-0e5f2231de70",
   "metadata": {},
   "outputs": [
    {
     "name": "stdout",
     "output_type": "stream",
     "text": [
      "Epoch 1/10\n",
      "98/98 [==============================] - 29s 274ms/step - loss: 0.3296 - accuracy: 0.8866 - val_loss: 0.1748 - val_accuracy: 0.9289\n",
      "Epoch 2/10\n",
      "98/98 [==============================] - 24s 249ms/step - loss: 0.1643 - accuracy: 0.9350 - val_loss: 0.1322 - val_accuracy: 0.9377\n",
      "Epoch 3/10\n",
      "98/98 [==============================] - 24s 244ms/step - loss: 0.1363 - accuracy: 0.9464 - val_loss: 0.2426 - val_accuracy: 0.8900\n",
      "Epoch 4/10\n",
      "98/98 [==============================] - 18s 186ms/step - loss: 0.2800 - accuracy: 0.9222 - val_loss: 0.1495 - val_accuracy: 0.9309\n",
      "Epoch 5/10\n",
      "98/98 [==============================] - 21s 217ms/step - loss: 0.1432 - accuracy: 0.9401 - val_loss: 0.1545 - val_accuracy: 0.9289\n",
      "Epoch 6/10\n",
      "98/98 [==============================] - 21s 218ms/step - loss: 0.1791 - accuracy: 0.9278 - val_loss: 0.1469 - val_accuracy: 0.9309\n",
      "Epoch 7/10\n",
      "98/98 [==============================] - 22s 220ms/step - loss: 0.1975 - accuracy: 0.9335 - val_loss: 0.1660 - val_accuracy: 0.9328\n",
      "Epoch 8/10\n",
      "98/98 [==============================] - 22s 220ms/step - loss: 0.1649 - accuracy: 0.9400 - val_loss: 0.1409 - val_accuracy: 0.9328\n",
      "Epoch 9/10\n",
      "98/98 [==============================] - 21s 214ms/step - loss: 0.1356 - accuracy: 0.9449 - val_loss: 0.1294 - val_accuracy: 0.9387\n",
      "Epoch 10/10\n",
      "98/98 [==============================] - 22s 224ms/step - loss: 0.2556 - accuracy: 0.9335 - val_loss: 0.3768 - val_accuracy: 0.8491\n"
     ]
    },
    {
     "data": {
      "text/plain": [
       "<keras.callbacks.History at 0x20622eda320>"
      ]
     },
     "execution_count": 63,
     "metadata": {},
     "output_type": "execute_result"
    }
   ],
   "source": [
    "# Fit the Network\n",
    "#model.fit(X_train_10, y_train_10, epochs=10, batch_size=200, validation_split=0.05, verbose=1,\n",
    " #         callbacks = [EarlyStopping(monitor='val_loss', min_delta=0, patience=0, verbose=0, mode='auto')])\n",
    "model.fit(X_train, y_train, epochs=10, batch_size=200,validation_split=0.05, verbose=1)"
   ]
  },
  {
   "cell_type": "code",
   "execution_count": 26,
   "id": "2064559f-a264-4ea5-8f60-e1b92517b03a",
   "metadata": {},
   "outputs": [
    {
     "name": "stdout",
     "output_type": "stream",
     "text": [
      "407/407 [==============================] - 12s 30ms/step - loss: 0.0624 - accuracy: 0.9820\n",
      "Accurracy: 0.9819944500923157\n"
     ]
    }
   ],
   "source": [
    "# training metrics\n",
    "loss, accuracy = model.evaluate(X_test, y_test)\n",
    "print('Accurracy:',accuracy)"
   ]
  },
  {
   "cell_type": "code",
   "execution_count": 65,
   "id": "96b515c1-f18d-4c66-8318-5e7a0535547d",
   "metadata": {},
   "outputs": [
    {
     "name": "stdout",
     "output_type": "stream",
     "text": [
      "407/407 [==============================] - 7s 16ms/step\n"
     ]
    }
   ],
   "source": [
    "y_pred = model.predict(X_test)"
   ]
  },
  {
   "cell_type": "code",
   "execution_count": 42,
   "id": "8b68e470-3a20-4f82-bc0c-a05a62f6cfe0",
   "metadata": {},
   "outputs": [
    {
     "ename": "NameError",
     "evalue": "name 'y_pred' is not defined",
     "output_type": "error",
     "traceback": [
      "\u001b[1;31m---------------------------------------------------------------------------\u001b[0m",
      "\u001b[1;31mNameError\u001b[0m                                 Traceback (most recent call last)",
      "Cell \u001b[1;32mIn [42], line 3\u001b[0m\n\u001b[0;32m      1\u001b[0m threshold \u001b[38;5;241m=\u001b[39m \u001b[38;5;241m50\u001b[39m\n\u001b[0;32m      2\u001b[0m lambda_func \u001b[38;5;241m=\u001b[39m \u001b[38;5;28;01mlambda\u001b[39;00m x: \u001b[38;5;241m1\u001b[39m \u001b[38;5;28;01mif\u001b[39;00m x\u001b[38;5;241m>\u001b[39m threshold \u001b[38;5;28;01melse\u001b[39;00m \u001b[38;5;241m0\u001b[39m\n\u001b[1;32m----> 3\u001b[0m result \u001b[38;5;241m=\u001b[39m np\u001b[38;5;241m.\u001b[39mvectorize(lambda_func)(\u001b[43my_pred\u001b[49m)\n",
      "\u001b[1;31mNameError\u001b[0m: name 'y_pred' is not defined"
     ]
    }
   ],
   "source": [
    "threshold = 50\n",
    "lambda_func = lambda x: 1 if x> threshold else 0\n",
    "result = np.vectorize(lambda_func)(y_pred)"
   ]
  },
  {
   "cell_type": "code",
   "execution_count": 71,
   "id": "741a4df5-bd8a-4f23-8c80-feee01a99763",
   "metadata": {},
   "outputs": [
    {
     "name": "stdout",
     "output_type": "stream",
     "text": [
      "Accuracy of model on test data:  0.9869959987688519\n",
      "Confusion Matrix: \n",
      " [[12656     8]\n",
      " [  161   171]]\n"
     ]
    }
   ],
   "source": [
    "print('Accuracy of model on test data: ',accuracy_score(y_test,result))\n",
    "print('Confusion Matrix: \\n',confusion_matrix(y_test,result))"
   ]
  },
  {
   "cell_type": "code",
   "execution_count": 68,
   "id": "81ef4720-cd22-4927-8aee-d031f8518a71",
   "metadata": {},
   "outputs": [],
   "source": [
    "model_cnn = tf.keras.models.Sequential([\n",
    "        tf.keras.layers.Dense(128, activation='relu',input_shape=(timestamp, nb_features)),\n",
    "        tf.keras.layers.Dropout(0.3),\n",
    "        tf.keras.layers.Dense(256, activation='relu'),\n",
    "        tf.keras.layers.Dropout(0.2),\n",
    "        tf.keras.layers.Dense(512, activation='relu'),\n",
    "        tf.keras.layers.Dropout(0.1),\n",
    "        tf.keras.layers.Flatten(),\n",
    "        tf.keras.layers.Dense(1,activation='sigmoid')\n",
    "])\n",
    "opt = keras.optimizers.Adam(learning_rate=0.001)\n",
    "model_cnn.compile(loss='binary_crossentropy',optimizer=opt,metrics=['accuracy'])"
   ]
  },
  {
   "cell_type": "code",
   "execution_count": 70,
   "id": "283667f3-2e6c-434e-9376-f432bf5defc3",
   "metadata": {},
   "outputs": [],
   "source": [
    "# for 10 days\n",
    "model_cnn_10 = tf.keras.models.Sequential([\n",
    "        tf.keras.layers.Dense(128, activation='relu',input_shape=(timestamp, nb_features)),\n",
    "        tf.keras.layers.Dropout(0.3),\n",
    "        tf.keras.layers.Dense(256, activation='relu'),\n",
    "        tf.keras.layers.Dropout(0.2),\n",
    "        tf.keras.layers.Dense(512, activation='relu'),\n",
    "        tf.keras.layers.Dropout(0.1),\n",
    "        tf.keras.layers.Flatten(),\n",
    "        tf.keras.layers.Dense(1,activation='sigmoid')\n",
    "])\n",
    "opt = keras.optimizers.Adam(learning_rate=0.001)\n",
    "model_cnn_10.compile(loss='binary_crossentropy',optimizer=opt,metrics=['accuracy'])"
   ]
  },
  {
   "cell_type": "code",
   "execution_count": 71,
   "id": "702647f9-c8b4-49c8-b0ad-07be9791c8dc",
   "metadata": {},
   "outputs": [],
   "source": [
    "model_cnn_20 = tf.keras.models.Sequential([\n",
    "        tf.keras.layers.Dense(128, activation='relu',input_shape=(timestamp, nb_features)),\n",
    "        tf.keras.layers.Dropout(0.3),\n",
    "        tf.keras.layers.Dense(256, activation='relu'),\n",
    "        tf.keras.layers.Dropout(0.2),\n",
    "        tf.keras.layers.Dense(512, activation='relu'),\n",
    "        tf.keras.layers.Dropout(0.1),\n",
    "        tf.keras.layers.Flatten(),\n",
    "        tf.keras.layers.Dense(1,activation='sigmoid')\n",
    "])\n",
    "opt = keras.optimizers.Adam(learning_rate=0.001)\n",
    "model_cnn_20.compile(loss='binary_crossentropy',optimizer=opt,metrics=['accuracy'])"
   ]
  },
  {
   "cell_type": "code",
   "execution_count": 28,
   "id": "f08f925e-5bd0-4c92-97c6-bf5d9dc8633c",
   "metadata": {},
   "outputs": [
    {
     "name": "stdout",
     "output_type": "stream",
     "text": [
      "Epoch 1/10\n",
      "98/98 [==============================] - 14s 129ms/step - loss: 0.1609 - accuracy: 0.9337 - val_loss: 0.0723 - val_accuracy: 0.9630\n",
      "Epoch 2/10\n",
      "98/98 [==============================] - 12s 125ms/step - loss: 0.0664 - accuracy: 0.9717 - val_loss: 0.0539 - val_accuracy: 0.9766\n",
      "Epoch 3/10\n",
      "98/98 [==============================] - 15s 153ms/step - loss: 0.0655 - accuracy: 0.9725 - val_loss: 0.0424 - val_accuracy: 0.9834\n",
      "Epoch 4/10\n",
      "98/98 [==============================] - 15s 148ms/step - loss: 0.0568 - accuracy: 0.9756 - val_loss: 0.0818 - val_accuracy: 0.9649\n",
      "Epoch 5/10\n",
      "98/98 [==============================] - 15s 148ms/step - loss: 0.0588 - accuracy: 0.9755 - val_loss: 0.0393 - val_accuracy: 0.9844\n",
      "Epoch 6/10\n",
      "98/98 [==============================] - 14s 143ms/step - loss: 0.0563 - accuracy: 0.9759 - val_loss: 0.0430 - val_accuracy: 0.9796\n",
      "Epoch 7/10\n",
      "98/98 [==============================] - 14s 143ms/step - loss: 0.0517 - accuracy: 0.9784 - val_loss: 0.0361 - val_accuracy: 0.9815\n",
      "Epoch 8/10\n",
      "98/98 [==============================] - 15s 149ms/step - loss: 0.0477 - accuracy: 0.9786 - val_loss: 0.0342 - val_accuracy: 0.9825\n",
      "Epoch 9/10\n",
      "98/98 [==============================] - 14s 142ms/step - loss: 0.0543 - accuracy: 0.9765 - val_loss: 0.0456 - val_accuracy: 0.9796\n",
      "Epoch 10/10\n",
      "98/98 [==============================] - 15s 150ms/step - loss: 0.0496 - accuracy: 0.9794 - val_loss: 0.0463 - val_accuracy: 0.9815\n"
     ]
    },
    {
     "data": {
      "text/plain": [
       "<keras.callbacks.History at 0x205b76de560>"
      ]
     },
     "execution_count": 28,
     "metadata": {},
     "output_type": "execute_result"
    }
   ],
   "source": [
    "model_cnn.fit(X_train, y_train, epochs=10, validation_split=0.05, batch_size=200)"
   ]
  },
  {
   "cell_type": "code",
   "execution_count": 72,
   "id": "01baae15-1571-450f-8bb5-9e34b240ca5b",
   "metadata": {},
   "outputs": [
    {
     "data": {
      "text/plain": [
       "<keras.callbacks.History at 0x2063005b160>"
      ]
     },
     "execution_count": 72,
     "metadata": {},
     "output_type": "execute_result"
    }
   ],
   "source": [
    "model_cnn_10.fit(X_train_10, y_train_10, epochs=10, validation_split=0.05, batch_size=200, verbose=0)\n",
    "model_cnn_20.fit(X_train_20, y_train_20, epochs=10, validation_split=0.05, batch_size=200, verbose=0)"
   ]
  },
  {
   "cell_type": "code",
   "execution_count": 29,
   "id": "44151d34-4a05-4423-a767-47634b4d8207",
   "metadata": {},
   "outputs": [
    {
     "name": "stdout",
     "output_type": "stream",
     "text": [
      "103/103 [==============================] - 3s 25ms/step - loss: 0.0470 - accuracy: 0.9786\n",
      "Accurracy: 0.9786177277565002\n"
     ]
    }
   ],
   "source": [
    "# training metrics\n",
    "scores = model_cnn.evaluate(X_train, y_train, verbose=1, batch_size=200)\n",
    "print('Accurracy: {}'.format(scores[1]))\n",
    "scores_10 = model_cnn_10.evaluate(X_train_10, y_train_10, verbose=1, batch_size=200)\n",
    "print('Accurracy: {}'.format(scores_10[1]))\n",
    "scores_20 = model_cnn_20.evaluate(X_train_20, y_train_20, verbose=1, batch_size=200)\n",
    "print('Accurracy: {}'.format(scores_20[1]))"
   ]
  },
  {
   "cell_type": "code",
   "execution_count": 73,
   "id": "16d25d1b-d77b-462f-9bf8-522dfd5ac1c3",
   "metadata": {},
   "outputs": [
    {
     "name": "stderr",
     "output_type": "stream",
     "text": [
      "WARNING:absl:Found untraced functions such as _update_step_xla while saving (showing 1 of 1). These functions will not be directly callable after loading.\n"
     ]
    },
    {
     "name": "stdout",
     "output_type": "stream",
     "text": [
      "INFO:tensorflow:Assets written to: C://Users/rajas/PycharmProjects/Flask_PM/models/model_pm_10/assets\n"
     ]
    },
    {
     "name": "stderr",
     "output_type": "stream",
     "text": [
      "INFO:tensorflow:Assets written to: C://Users/rajas/PycharmProjects/Flask_PM/models/model_pm_10/assets\n",
      "WARNING:absl:Found untraced functions such as _update_step_xla while saving (showing 1 of 1). These functions will not be directly callable after loading.\n"
     ]
    },
    {
     "name": "stdout",
     "output_type": "stream",
     "text": [
      "INFO:tensorflow:Assets written to: C://Users/rajas/PycharmProjects/Flask_PM/models/model_pm_20/assets\n"
     ]
    },
    {
     "name": "stderr",
     "output_type": "stream",
     "text": [
      "INFO:tensorflow:Assets written to: C://Users/rajas/PycharmProjects/Flask_PM/models/model_pm_20/assets\n"
     ]
    }
   ],
   "source": [
    "# save the model to a file\n",
    "model_cnn.save('C://Users/rajas/PycharmProjects/Flask_PM/models/model_pm_30')\n",
    "model_cnn_10.save('C://Users/rajas/PycharmProjects/Flask_PM/models/model_pm_10')\n",
    "model_cnn_20.save('C://Users/rajas/PycharmProjects/Flask_PM/models/model_pm_20')"
   ]
  },
  {
   "cell_type": "code",
   "execution_count": 72,
   "id": "5762d63d-317e-4850-bde7-af123b4eaa55",
   "metadata": {},
   "outputs": [
    {
     "name": "stdout",
     "output_type": "stream",
     "text": [
      "407/407 [==============================] - 3s 7ms/step\n",
      "Accuracy of model on test data:  0.9925361649738381\n",
      "Confusion Matrix: \n",
      " [[12615    49]\n",
      " [   48   284]]\n"
     ]
    }
   ],
   "source": [
    "y2_pred=model_cnn.predict(X_test)\n",
    "result2 = np.vectorize(lambda_func)(y2_pred)\n",
    "print('Accuracy of model on test data: ',accuracy_score(y_test,result2))\n",
    "print('Confusion Matrix: \\n',confusion_matrix(y_test,result2))"
   ]
  },
  {
   "cell_type": "code",
   "execution_count": 36,
   "id": "5449e36e-83d0-4f84-8d4d-326d928a5420",
   "metadata": {},
   "outputs": [],
   "source": [
    "def prob_failure(machine_id):\n",
    "    machine_df=df_test[df_test.engine_id==machine_id]\n",
    "    machine_test=gen_sequence(machine_df,seq_length,seq_cols)\n",
    "    m_pred=model.predict(machine_test, verbose=0)\n",
    "    failure_prob=list(m_pred[-1]*100)[0]\n",
    "    return failure_prob"
   ]
  },
  {
   "cell_type": "code",
   "execution_count": 41,
   "id": "597dac9f-6b6b-4f9a-b9ae-be622408f1fb",
   "metadata": {},
   "outputs": [
    {
     "name": "stdout",
     "output_type": "stream",
     "text": [
      "Probability percentage that machine will fail within 30 days:  9.48165e-05\n"
     ]
    }
   ],
   "source": [
    "machine_id=25\n",
    "print('Probability percentage that machine will fail within 30 days: ',prob_failure(machine_id))"
   ]
  },
  {
   "cell_type": "code",
   "execution_count": 43,
   "id": "a69ac3f8-b033-4d42-9ff6-37cb5704cb94",
   "metadata": {},
   "outputs": [
    {
     "name": "stdout",
     "output_type": "stream",
     "text": [
      "[20, 31, 34, 35, 36, 40, 49, 56, 66, 68, 76, 81, 82, 91, 92, 93]\n"
     ]
    }
   ],
   "source": [
    "maintain_engine = []\n",
    "for i in range(1, 101):\n",
    "    fail_prob = prob_failure(i)\n",
    "    if fail_prob > threshold:\n",
    "        maintain_engine.append(i)\n",
    "print(maintain_engine)"
   ]
  },
  {
   "cell_type": "code",
   "execution_count": null,
   "id": "83e0800c-5d98-4d1a-82e0-3e06751eb42b",
   "metadata": {},
   "outputs": [],
   "source": []
  }
 ],
 "metadata": {
  "kernelspec": {
   "display_name": "Python 3 (ipykernel)",
   "language": "python",
   "name": "python3"
  },
  "language_info": {
   "codemirror_mode": {
    "name": "ipython",
    "version": 3
   },
   "file_extension": ".py",
   "mimetype": "text/x-python",
   "name": "python",
   "nbconvert_exporter": "python",
   "pygments_lexer": "ipython3",
   "version": "3.10.8"
  }
 },
 "nbformat": 4,
 "nbformat_minor": 5
}
